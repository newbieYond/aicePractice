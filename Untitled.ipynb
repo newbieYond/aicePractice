{
 "cells": [
  {
   "cell_type": "code",
   "execution_count": 4,
   "id": "fe822423-83b6-4bed-9799-c0ace50afe33",
   "metadata": {
    "scrolled": true
   },
   "outputs": [
    {
     "data": {
      "text/html": [
       "<div>\n",
       "<style scoped>\n",
       "    .dataframe tbody tr th:only-of-type {\n",
       "        vertical-align: middle;\n",
       "    }\n",
       "\n",
       "    .dataframe tbody tr th {\n",
       "        vertical-align: top;\n",
       "    }\n",
       "\n",
       "    .dataframe thead th {\n",
       "        text-align: right;\n",
       "    }\n",
       "</style>\n",
       "<table border=\"1\" class=\"dataframe\">\n",
       "  <thead>\n",
       "    <tr style=\"text-align: right;\">\n",
       "      <th></th>\n",
       "      <th>survived</th>\n",
       "      <th>sex</th>\n",
       "      <th>age</th>\n",
       "      <th>n_siblings_spouses</th>\n",
       "      <th>parch</th>\n",
       "      <th>fare</th>\n",
       "      <th>class</th>\n",
       "      <th>deck</th>\n",
       "      <th>embark_town</th>\n",
       "      <th>alone</th>\n",
       "    </tr>\n",
       "  </thead>\n",
       "  <tbody>\n",
       "    <tr>\n",
       "      <th>0</th>\n",
       "      <td>0</td>\n",
       "      <td>male</td>\n",
       "      <td>35.0</td>\n",
       "      <td>0</td>\n",
       "      <td>0</td>\n",
       "      <td>8.0500</td>\n",
       "      <td>Third</td>\n",
       "      <td>unknown</td>\n",
       "      <td>Southampton</td>\n",
       "      <td>y</td>\n",
       "    </tr>\n",
       "    <tr>\n",
       "      <th>1</th>\n",
       "      <td>0</td>\n",
       "      <td>male</td>\n",
       "      <td>54.0</td>\n",
       "      <td>0</td>\n",
       "      <td>0</td>\n",
       "      <td>51.8625</td>\n",
       "      <td>First</td>\n",
       "      <td>E</td>\n",
       "      <td>Southampton</td>\n",
       "      <td>y</td>\n",
       "    </tr>\n",
       "    <tr>\n",
       "      <th>2</th>\n",
       "      <td>1</td>\n",
       "      <td>female</td>\n",
       "      <td>58.0</td>\n",
       "      <td>0</td>\n",
       "      <td>0</td>\n",
       "      <td>26.5500</td>\n",
       "      <td>First</td>\n",
       "      <td>C</td>\n",
       "      <td>Southampton</td>\n",
       "      <td>y</td>\n",
       "    </tr>\n",
       "    <tr>\n",
       "      <th>3</th>\n",
       "      <td>1</td>\n",
       "      <td>female</td>\n",
       "      <td>55.0</td>\n",
       "      <td>0</td>\n",
       "      <td>0</td>\n",
       "      <td>16.0000</td>\n",
       "      <td>Second</td>\n",
       "      <td>unknown</td>\n",
       "      <td>Southampton</td>\n",
       "      <td>y</td>\n",
       "    </tr>\n",
       "    <tr>\n",
       "      <th>4</th>\n",
       "      <td>1</td>\n",
       "      <td>male</td>\n",
       "      <td>34.0</td>\n",
       "      <td>0</td>\n",
       "      <td>0</td>\n",
       "      <td>13.0000</td>\n",
       "      <td>Second</td>\n",
       "      <td>D</td>\n",
       "      <td>Southampton</td>\n",
       "      <td>y</td>\n",
       "    </tr>\n",
       "    <tr>\n",
       "      <th>...</th>\n",
       "      <td>...</td>\n",
       "      <td>...</td>\n",
       "      <td>...</td>\n",
       "      <td>...</td>\n",
       "      <td>...</td>\n",
       "      <td>...</td>\n",
       "      <td>...</td>\n",
       "      <td>...</td>\n",
       "      <td>...</td>\n",
       "      <td>...</td>\n",
       "    </tr>\n",
       "    <tr>\n",
       "      <th>259</th>\n",
       "      <td>1</td>\n",
       "      <td>female</td>\n",
       "      <td>25.0</td>\n",
       "      <td>0</td>\n",
       "      <td>1</td>\n",
       "      <td>26.0000</td>\n",
       "      <td>Second</td>\n",
       "      <td>unknown</td>\n",
       "      <td>Southampton</td>\n",
       "      <td>n</td>\n",
       "    </tr>\n",
       "    <tr>\n",
       "      <th>260</th>\n",
       "      <td>0</td>\n",
       "      <td>male</td>\n",
       "      <td>33.0</td>\n",
       "      <td>0</td>\n",
       "      <td>0</td>\n",
       "      <td>7.8958</td>\n",
       "      <td>Third</td>\n",
       "      <td>unknown</td>\n",
       "      <td>Southampton</td>\n",
       "      <td>y</td>\n",
       "    </tr>\n",
       "    <tr>\n",
       "      <th>261</th>\n",
       "      <td>0</td>\n",
       "      <td>female</td>\n",
       "      <td>39.0</td>\n",
       "      <td>0</td>\n",
       "      <td>5</td>\n",
       "      <td>29.1250</td>\n",
       "      <td>Third</td>\n",
       "      <td>unknown</td>\n",
       "      <td>Queenstown</td>\n",
       "      <td>n</td>\n",
       "    </tr>\n",
       "    <tr>\n",
       "      <th>262</th>\n",
       "      <td>0</td>\n",
       "      <td>male</td>\n",
       "      <td>27.0</td>\n",
       "      <td>0</td>\n",
       "      <td>0</td>\n",
       "      <td>13.0000</td>\n",
       "      <td>Second</td>\n",
       "      <td>unknown</td>\n",
       "      <td>Southampton</td>\n",
       "      <td>y</td>\n",
       "    </tr>\n",
       "    <tr>\n",
       "      <th>263</th>\n",
       "      <td>1</td>\n",
       "      <td>male</td>\n",
       "      <td>26.0</td>\n",
       "      <td>0</td>\n",
       "      <td>0</td>\n",
       "      <td>30.0000</td>\n",
       "      <td>First</td>\n",
       "      <td>C</td>\n",
       "      <td>Cherbourg</td>\n",
       "      <td>y</td>\n",
       "    </tr>\n",
       "  </tbody>\n",
       "</table>\n",
       "<p>264 rows × 10 columns</p>\n",
       "</div>"
      ],
      "text/plain": [
       "     survived     sex   age  n_siblings_spouses  parch     fare   class  \\\n",
       "0           0    male  35.0                   0      0   8.0500   Third   \n",
       "1           0    male  54.0                   0      0  51.8625   First   \n",
       "2           1  female  58.0                   0      0  26.5500   First   \n",
       "3           1  female  55.0                   0      0  16.0000  Second   \n",
       "4           1    male  34.0                   0      0  13.0000  Second   \n",
       "..        ...     ...   ...                 ...    ...      ...     ...   \n",
       "259         1  female  25.0                   0      1  26.0000  Second   \n",
       "260         0    male  33.0                   0      0   7.8958   Third   \n",
       "261         0  female  39.0                   0      5  29.1250   Third   \n",
       "262         0    male  27.0                   0      0  13.0000  Second   \n",
       "263         1    male  26.0                   0      0  30.0000   First   \n",
       "\n",
       "        deck  embark_town alone  \n",
       "0    unknown  Southampton     y  \n",
       "1          E  Southampton     y  \n",
       "2          C  Southampton     y  \n",
       "3    unknown  Southampton     y  \n",
       "4          D  Southampton     y  \n",
       "..       ...          ...   ...  \n",
       "259  unknown  Southampton     n  \n",
       "260  unknown  Southampton     y  \n",
       "261  unknown   Queenstown     n  \n",
       "262  unknown  Southampton     y  \n",
       "263        C    Cherbourg     y  \n",
       "\n",
       "[264 rows x 10 columns]"
      ]
     },
     "execution_count": 4,
     "metadata": {},
     "output_type": "execute_result"
    }
   ],
   "source": [
    "import pandas as pd\n",
    "df = pd.read_csv(\"eval.csv\")\n",
    "df"
   ]
  },
  {
   "cell_type": "code",
   "execution_count": 9,
   "id": "2ca84dc0-9cd3-48af-a62b-e7f265eb2950",
   "metadata": {},
   "outputs": [
    {
     "name": "stdout",
     "output_type": "stream",
     "text": [
      "Requirement already satisfied: numpy in /opt/anaconda3/lib/python3.12/site-packages (1.26.4)\n",
      "Note: you may need to restart the kernel to use updated packages.\n"
     ]
    }
   ],
   "source": [
    "pip install numpy\n",
    "pip install numpy -q -upgrade"
   ]
  },
  {
   "cell_type": "code",
   "execution_count": 15,
   "id": "1c1dd755-82be-4500-b13a-2c8ee53f3fa0",
   "metadata": {},
   "outputs": [
    {
     "name": "stdout",
     "output_type": "stream",
     "text": [
      "자료형:  int64\n"
     ]
    }
   ],
   "source": [
    "import numpy as np\n",
    "\n",
    "array = np.array([1,2,3,4,5])\n",
    "array\n",
    "print(\"자료형: \", array.dtype)"
   ]
  },
  {
   "cell_type": "code",
   "execution_count": 11,
   "id": "915501b9-c07c-4877-8a33-4af068be281d",
   "metadata": {},
   "outputs": [
    {
     "name": "stdout",
     "output_type": "stream",
     "text": [
      "배열의 값\n",
      " [[1 2 3]\n",
      " [4 5 6]]\n",
      "배열의 전체 합\n",
      " 21\n",
      "배열의 전체 평균\n",
      " 3.5\n",
      "배열의 최소\n",
      " 1\n",
      "배열의 최대\n",
      " 6\n",
      "배열의 전치\n",
      " [[1 4]\n",
      " [2 5]\n",
      " [3 6]]\n",
      "배열의 변환\n",
      " [[1 2]\n",
      " [3 4]\n",
      " [5 6]]\n"
     ]
    }
   ],
   "source": [
    "import numpy as np\n",
    "matrix = np.array([[1,2,3], [4,5,6]])\n",
    "print(\"배열의 값\\n\", matrix)\n",
    "print(\"배열의 전체 합\\n\", np.sum(matrix))\n",
    "print(\"배열의 전체 평균\\n\", np.mean(matrix))\n",
    "print(\"배열의 최소\\n\", np.min(matrix))\n",
    "print(\"배열의 최대\\n\", np.max(matrix))\n",
    "print(\"배열의 전치\\n\", matrix.T)\n",
    "print(\"배열의 변환\\n\", matrix.reshape(3,2))"
   ]
  },
  {
   "cell_type": "code",
   "execution_count": 46,
   "id": "e038bd7a-f707-4403-8dc5-43d3c582ddd5",
   "metadata": {},
   "outputs": [
    {
     "name": "stdout",
     "output_type": "stream",
     "text": [
      "나이는 30입니다.\n",
      "나이는 30입니다.\n",
      "apple banana cherry\n",
      "apple / banana / cherry\n",
      "apple\tbanana\tcherry\n",
      "HelloHello\n",
      "Hello\n",
      "Charlie 28 reading\n",
      "<class 'int'>\n",
      "<class 'str'>\n",
      "7\n",
      "Charlie Charlie Charlie \n"
     ]
    }
   ],
   "source": [
    "print(\"나이는 \" + str(30) + \"입니다.\")\n",
    "print(f\"나이는 {30}입니다.\")\n",
    "print(\"apple\", \"banana\", \"cherry\")\n",
    "print(\"apple\", \"banana\", \"cherry\", sep= \" / \")\n",
    "print(\"apple\\tbanana\\tcherry\")\n",
    "print(\"Hello\", end= \"\") #기본 \\n을 줄바꿈 없음으로 설정\n",
    "print(\"Hello\")\n",
    "print(\"Hello\")\n",
    "\n",
    "name = \"Charlie\"\n",
    "age = 28\n",
    "hobby = \"reading\"\n",
    "print(\"{} {} {}\".format(name, age, hobby))\n",
    "\n",
    "print(type(3))\n",
    "print(type(\"name\"))\n",
    "print(len(name))\n",
    "print((name + \" \") * 3)"
   ]
  },
  {
   "cell_type": "code",
   "execution_count": 27,
   "id": "8a347c75-7bc1-4f02-9c43-c17fd6641bc5",
   "metadata": {},
   "outputs": [
    {
     "name": "stdout",
     "output_type": "stream",
     "text": [
      "Requirement already satisfied: pandas in /opt/anaconda3/lib/python3.12/site-packages (2.2.2)\n",
      "Requirement already satisfied: numpy>=1.26.0 in /opt/anaconda3/lib/python3.12/site-packages (from pandas) (1.26.4)\n",
      "Requirement already satisfied: python-dateutil>=2.8.2 in /opt/anaconda3/lib/python3.12/site-packages (from pandas) (2.9.0.post0)\n",
      "Requirement already satisfied: pytz>=2020.1 in /opt/anaconda3/lib/python3.12/site-packages (from pandas) (2024.1)\n",
      "Requirement already satisfied: tzdata>=2022.7 in /opt/anaconda3/lib/python3.12/site-packages (from pandas) (2023.3)\n",
      "Requirement already satisfied: six>=1.5 in /opt/anaconda3/lib/python3.12/site-packages (from python-dateutil>=2.8.2->pandas) (1.16.0)\n",
      "Note: you may need to restart the kernel to use updated packages.\n"
     ]
    }
   ],
   "source": [
    "pip install pandas"
   ]
  },
  {
   "cell_type": "code",
   "execution_count": 30,
   "id": "5748552d-91e6-457e-ad7b-16701df3f44f",
   "metadata": {},
   "outputs": [
    {
     "name": "stdout",
     "output_type": "stream",
     "text": [
      "Series:\n",
      " 0    10\n",
      "1    20\n",
      "2    30\n",
      "3    40\n",
      "dtype: int64\n",
      "Series[0]:  10\n"
     ]
    }
   ],
   "source": [
    "import pandas as pd\n",
    "data = [10, 20, 30, 40]\n",
    "series = pd.Series(data)\n",
    "print(\"Series:\\n\", series)\n",
    "print(\"Series[0]: \", series[0])"
   ]
  },
  {
   "cell_type": "code",
   "execution_count": 41,
   "id": "37487897-bb0e-4dc2-b760-acb37c1191fe",
   "metadata": {},
   "outputs": [
    {
     "name": "stdout",
     "output_type": "stream",
     "text": [
      "    이름  수학  영어\n",
      "0  김철수  85  88\n",
      "1  이영희  90  84\n",
      "2  박민수  78  95\n",
      "\n",
      "\n",
      "DataFrame:\n",
      "     이름  수학  영어\n",
      "0  김철수  85  88\n",
      "1  이영희  90  84\n",
      "2  박민수  78  95\n"
     ]
    },
    {
     "data": {
      "text/html": [
       "<div>\n",
       "<style scoped>\n",
       "    .dataframe tbody tr th:only-of-type {\n",
       "        vertical-align: middle;\n",
       "    }\n",
       "\n",
       "    .dataframe tbody tr th {\n",
       "        vertical-align: top;\n",
       "    }\n",
       "\n",
       "    .dataframe thead th {\n",
       "        text-align: right;\n",
       "    }\n",
       "</style>\n",
       "<table border=\"1\" class=\"dataframe\">\n",
       "  <thead>\n",
       "    <tr style=\"text-align: right;\">\n",
       "      <th></th>\n",
       "      <th>이름</th>\n",
       "      <th>수학</th>\n",
       "      <th>영어</th>\n",
       "    </tr>\n",
       "  </thead>\n",
       "  <tbody>\n",
       "    <tr>\n",
       "      <th>0</th>\n",
       "      <td>김철수</td>\n",
       "      <td>85</td>\n",
       "      <td>88</td>\n",
       "    </tr>\n",
       "    <tr>\n",
       "      <th>1</th>\n",
       "      <td>이영희</td>\n",
       "      <td>90</td>\n",
       "      <td>84</td>\n",
       "    </tr>\n",
       "    <tr>\n",
       "      <th>2</th>\n",
       "      <td>박민수</td>\n",
       "      <td>78</td>\n",
       "      <td>95</td>\n",
       "    </tr>\n",
       "  </tbody>\n",
       "</table>\n",
       "</div>"
      ],
      "text/plain": [
       "    이름  수학  영어\n",
       "0  김철수  85  88\n",
       "1  이영희  90  84\n",
       "2  박민수  78  95"
      ]
     },
     "execution_count": 41,
     "metadata": {},
     "output_type": "execute_result"
    }
   ],
   "source": [
    "import pandas as pd\n",
    "data = {\n",
    "    \"이름\": [\"김철수\", \"이영희\", \"박민수\"],\n",
    "    \"수학\": [85, 90, 78],\n",
    "    \"영어\": [88, 84, 95]\n",
    "}\n",
    "df = pd.DataFrame(data)\n",
    "print(df)\n",
    "print(\"\\n\\nDataFrame:\\n\",df)"
   ]
  },
  {
   "cell_type": "code",
   "execution_count": null,
   "id": "aa94ef9e-ce6c-4a02-ada0-e9d039ac1f9d",
   "metadata": {},
   "outputs": [],
   "source": []
  }
 ],
 "metadata": {
  "kernelspec": {
   "display_name": "Python 3 (ipykernel)",
   "language": "python",
   "name": "python3"
  },
  "language_info": {
   "codemirror_mode": {
    "name": "ipython",
    "version": 3
   },
   "file_extension": ".py",
   "mimetype": "text/x-python",
   "name": "python",
   "nbconvert_exporter": "python",
   "pygments_lexer": "ipython3",
   "version": "3.12.7"
  }
 },
 "nbformat": 4,
 "nbformat_minor": 5
}
